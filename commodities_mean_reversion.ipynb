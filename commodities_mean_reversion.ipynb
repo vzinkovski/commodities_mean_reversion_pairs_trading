{
  "nbformat": 4,
  "nbformat_minor": 0,
  "metadata": {
    "colab": {
      "provenance": [],
      "toc_visible": true,
      "authorship_tag": "ABX9TyMz2HAgLphH2KwPl1wJLx6y",
      "include_colab_link": true
    },
    "kernelspec": {
      "name": "python3",
      "display_name": "Python 3"
    },
    "language_info": {
      "name": "python"
    }
  },
  "cells": [
    {
      "cell_type": "markdown",
      "metadata": {
        "id": "view-in-github",
        "colab_type": "text"
      },
      "source": [
        "<a href=\"https://colab.research.google.com/github/vzinkovski/financial-data-science/blob/main/commodities_mean_reversion.ipynb\" target=\"_parent\"><img src=\"https://colab.research.google.com/assets/colab-badge.svg\" alt=\"Open In Colab\"/></a>"
      ]
    },
    {
      "cell_type": "markdown",
      "source": [
        "Explanatory variables:\n",
        "- Log returns of price ratio\n",
        "- Volume, OI for each leg\n",
        "- Call and put options volume, OI for each leg\n",
        "- Other correlated commodities prices\n",
        "- WTI, Brent prices\n",
        "- GSCI, S&P500\n",
        "- VIX\n",
        "- USD/EUR, USD/AUD, USD/CAD, USD/BRL\n",
        "\n",
        "*Note: For all above variables their $n$ lagged values may be considered.*"
      ],
      "metadata": {
        "id": "a5lYnlUjiPgp"
      }
    },
    {
      "cell_type": "code",
      "source": [],
      "metadata": {
        "id": "rrjb_00CiTPR"
      },
      "execution_count": null,
      "outputs": []
    },
    {
      "cell_type": "code",
      "source": [],
      "metadata": {
        "id": "0JtwWuTUiUdl"
      },
      "execution_count": null,
      "outputs": []
    },
    {
      "cell_type": "code",
      "source": [],
      "metadata": {
        "id": "AvTjS9tCqokV"
      },
      "execution_count": null,
      "outputs": []
    },
    {
      "cell_type": "code",
      "source": [],
      "metadata": {
        "id": "zR6o--3IqpNR"
      },
      "execution_count": null,
      "outputs": []
    },
    {
      "cell_type": "code",
      "source": [],
      "metadata": {
        "id": "pK3FO32DqpiU"
      },
      "execution_count": null,
      "outputs": []
    },
    {
      "cell_type": "code",
      "source": [],
      "metadata": {
        "id": "4F4-QCwaqpw-"
      },
      "execution_count": null,
      "outputs": []
    }
  ]
}