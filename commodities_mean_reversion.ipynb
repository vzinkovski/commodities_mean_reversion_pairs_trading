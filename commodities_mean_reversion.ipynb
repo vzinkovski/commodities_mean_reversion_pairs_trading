{
  "nbformat": 4,
  "nbformat_minor": 0,
  "metadata": {
    "colab": {
      "provenance": [],
      "toc_visible": true,
      "authorship_tag": "ABX9TyPwt5MZrpaXrr9jJlhuAmkp",
      "include_colab_link": true
    },
    "kernelspec": {
      "name": "python3",
      "display_name": "Python 3"
    },
    "language_info": {
      "name": "python"
    }
  },
  "cells": [
    {
      "cell_type": "markdown",
      "metadata": {
        "id": "view-in-github",
        "colab_type": "text"
      },
      "source": [
        "<a href=\"https://colab.research.google.com/github/vzinkovski/financial-data-science/blob/main/commodities_mean_reversion.ipynb\" target=\"_parent\"><img src=\"https://colab.research.google.com/assets/colab-badge.svg\" alt=\"Open In Colab\"/></a>"
      ]
    },
    {
      "cell_type": "markdown",
      "source": [
        "Explanatory variables:\n",
        "- Log returns of price ratio\n",
        "- Volume, OI for each leg\n",
        "- Call and put options volume, OI for each\n",
        "- GSCI\n",
        "- S&P500\n",
        "- VIX\n",
        "- WTI, Brent\n",
        "- USD/AUD, USD/EUR, USD/CAD, USD/BRL\n",
        "\n",
        "*Note: for all above variables their $n$ lagged values may be considered*"
      ],
      "metadata": {
        "id": "a5lYnlUjiPgp"
      }
    },
    {
      "cell_type": "code",
      "source": [],
      "metadata": {
        "id": "rrjb_00CiTPR"
      },
      "execution_count": null,
      "outputs": []
    },
    {
      "cell_type": "code",
      "source": [],
      "metadata": {
        "id": "0JtwWuTUiUdl"
      },
      "execution_count": null,
      "outputs": []
    }
  ]
}