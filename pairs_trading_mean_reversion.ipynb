{
  "nbformat": 4,
  "nbformat_minor": 0,
  "metadata": {
    "colab": {
      "provenance": [],
      "toc_visible": true,
      "authorship_tag": "ABX9TyNVdP2/vk7EgzmH1WpwZDq6",
      "include_colab_link": true
    },
    "kernelspec": {
      "name": "python3",
      "display_name": "Python 3"
    },
    "language_info": {
      "name": "python"
    }
  },
  "cells": [
    {
      "cell_type": "markdown",
      "metadata": {
        "id": "view-in-github",
        "colab_type": "text"
      },
      "source": [
        "<a href=\"https://colab.research.google.com/github/vzinkovski/financial-data-science/blob/main/pairs_trading_mean_reversion.ipynb\" target=\"_parent\"><img src=\"https://colab.research.google.com/assets/colab-badge.svg\" alt=\"Open In Colab\"/></a>"
      ]
    },
    {
      "cell_type": "markdown",
      "source": [
        "# Commodities Mean Reversion Trading Strategy\n",
        "\n",
        "In its most simple form, all trading strategies can be classified as either momentum or mean reversion. Commodities are often fungible which means they can be used as substitutes for each other given the right economics. For such fungible commodity pairs this implies both a positive correlation, as well as cointegration. Cointegration simply means that the individual price series for two commodities cannot deviate indefinitely and will revert to some mean value. This project will explore a mean reverting pairs trading strategy for a select universe of cointegrated commodity pairs. An inherent advantage of restricting our universe to commodities only is that these will be naturally free from survivorship bias."
      ],
      "metadata": {
        "id": "KDBI3bFKwInq"
      }
    },
    {
      "cell_type": "markdown",
      "source": [
        "### Import libraries"
      ],
      "metadata": {
        "id": "cj3MbaGvxzC7"
      }
    },
    {
      "cell_type": "code",
      "source": [
        "# standard libraries\n",
        "from datetime import datetime, timedelta\n",
        "import numpy as np\n",
        "import pandas as pd\n",
        "\n",
        "# financial analysis\n",
        "import statsmodels.api as sm\n",
        "from statsmodels.regression.rolling import RollingOLS\n",
        "from statsmodels.tsa.stattools import adfuller\n",
        "import yfinance as yf #Yahoo! Finance API\n",
        "\n",
        "# plotting\n",
        "import matplotlib.pyplot as plt\n",
        "import seaborn as sns"
      ],
      "metadata": {
        "id": "AMWv0tdqx6i1"
      },
      "execution_count": 1,
      "outputs": []
    },
    {
      "cell_type": "markdown",
      "source": [
        "### USER INPUT: date range, trading pair, benchmark, hyperparameters"
      ],
      "metadata": {
        "id": "5CuZJBsbgisj"
      }
    },
    {
      "cell_type": "code",
      "source": [
        "# date range\n",
        "start = '2012-01-01' # YYYY-MM-DD format\n",
        "end = datetime.now() - timedelta(1) # dynamically get yday's date\n",
        "\n",
        "# trading pair\n",
        "product1_name = 'CME Corn'\n",
        "product1_ticker = 'ZC=F'\n",
        "product2_name = 'CME SRW'\n",
        "product2_ticker = 'ZW=F'\n",
        "\n",
        "# benchmark\n",
        "benchmark_name = 'GSCI' # S&P GSCI\n",
        "benchmark_ticker = 'GD=F'\n",
        "\n",
        "# hyperparameters\n",
        "lookback = 30 # rolling window for calculating mean and standard deviation\n",
        "entry_threshold = 2 # Bollinger Bands +/- standard deviation width\n",
        "exit_threshold = 0 # generate exit signal when mean reverting\n",
        "stop_loss = 3 # generate exit signal when excessively mean diverting\n",
        "alpha = 0.01 # threshold for Augmented Dicky Fuller (ADF) stationarity test"
      ],
      "metadata": {
        "id": "9FuohObtgwD-"
      },
      "execution_count": 2,
      "outputs": []
    },
    {
      "cell_type": "markdown",
      "source": [
        "### Fetch ticker data"
      ],
      "metadata": {
        "id": "UHsY9-LWyNmk"
      }
    },
    {
      "cell_type": "code",
      "source": [
        "def create_pairs_df(product1_name, product1_ticker, product2_name, product2_ticker):\n",
        "\n",
        "  # fetch closing prices for commodities pair\n",
        "  pairs_df = yf.download([product1_ticker, product2_ticker], start=start, end=end)['Adj Close']\n",
        "  pairs_df.rename(columns={product1_ticker:product1_name, product2_ticker:product2_name}, inplace=True)\n",
        "  pairs_df.fillna(method='ffill', inplace=True)\n",
        "\n",
        "  return pairs_df"
      ],
      "metadata": {
        "id": "2wuiUXqoyQuM"
      },
      "execution_count": 3,
      "outputs": []
    },
    {
      "cell_type": "code",
      "source": [
        "pairs_df = create_pairs_df(product1_name, product1_ticker, product2_name, product2_ticker)\n",
        "pairs_df"
      ],
      "metadata": {
        "colab": {
          "base_uri": "https://localhost:8080/",
          "height": 473
        },
        "id": "u405rHKJmTap",
        "outputId": "4c0799d4-f254-445d-aa68-9d9ee0b02ccb"
      },
      "execution_count": 4,
      "outputs": [
        {
          "output_type": "stream",
          "name": "stdout",
          "text": [
            "[*********************100%***********************]  2 of 2 completed\n"
          ]
        },
        {
          "output_type": "execute_result",
          "data": {
            "text/plain": [
              "            CME Corn  CME SRW\n",
              "Date                         \n",
              "2012-01-03    658.50   657.00\n",
              "2012-01-04    658.50   650.00\n",
              "2012-01-05    643.50   629.25\n",
              "2012-01-06    643.50   624.75\n",
              "2012-01-09    652.00   641.75\n",
              "...              ...      ...\n",
              "2023-04-18    677.50   698.00\n",
              "2023-04-19    672.25   681.75\n",
              "2023-04-20    663.75   667.75\n",
              "2023-04-21    663.25   661.75\n",
              "2023-04-24    651.25   643.50\n",
              "\n",
              "[2843 rows x 2 columns]"
            ],
            "text/html": [
              "\n",
              "  <div id=\"df-7d145a3d-317d-4efd-87e7-c2f0307f2ed9\">\n",
              "    <div class=\"colab-df-container\">\n",
              "      <div>\n",
              "<style scoped>\n",
              "    .dataframe tbody tr th:only-of-type {\n",
              "        vertical-align: middle;\n",
              "    }\n",
              "\n",
              "    .dataframe tbody tr th {\n",
              "        vertical-align: top;\n",
              "    }\n",
              "\n",
              "    .dataframe thead th {\n",
              "        text-align: right;\n",
              "    }\n",
              "</style>\n",
              "<table border=\"1\" class=\"dataframe\">\n",
              "  <thead>\n",
              "    <tr style=\"text-align: right;\">\n",
              "      <th></th>\n",
              "      <th>CME Corn</th>\n",
              "      <th>CME SRW</th>\n",
              "    </tr>\n",
              "    <tr>\n",
              "      <th>Date</th>\n",
              "      <th></th>\n",
              "      <th></th>\n",
              "    </tr>\n",
              "  </thead>\n",
              "  <tbody>\n",
              "    <tr>\n",
              "      <th>2012-01-03</th>\n",
              "      <td>658.50</td>\n",
              "      <td>657.00</td>\n",
              "    </tr>\n",
              "    <tr>\n",
              "      <th>2012-01-04</th>\n",
              "      <td>658.50</td>\n",
              "      <td>650.00</td>\n",
              "    </tr>\n",
              "    <tr>\n",
              "      <th>2012-01-05</th>\n",
              "      <td>643.50</td>\n",
              "      <td>629.25</td>\n",
              "    </tr>\n",
              "    <tr>\n",
              "      <th>2012-01-06</th>\n",
              "      <td>643.50</td>\n",
              "      <td>624.75</td>\n",
              "    </tr>\n",
              "    <tr>\n",
              "      <th>2012-01-09</th>\n",
              "      <td>652.00</td>\n",
              "      <td>641.75</td>\n",
              "    </tr>\n",
              "    <tr>\n",
              "      <th>...</th>\n",
              "      <td>...</td>\n",
              "      <td>...</td>\n",
              "    </tr>\n",
              "    <tr>\n",
              "      <th>2023-04-18</th>\n",
              "      <td>677.50</td>\n",
              "      <td>698.00</td>\n",
              "    </tr>\n",
              "    <tr>\n",
              "      <th>2023-04-19</th>\n",
              "      <td>672.25</td>\n",
              "      <td>681.75</td>\n",
              "    </tr>\n",
              "    <tr>\n",
              "      <th>2023-04-20</th>\n",
              "      <td>663.75</td>\n",
              "      <td>667.75</td>\n",
              "    </tr>\n",
              "    <tr>\n",
              "      <th>2023-04-21</th>\n",
              "      <td>663.25</td>\n",
              "      <td>661.75</td>\n",
              "    </tr>\n",
              "    <tr>\n",
              "      <th>2023-04-24</th>\n",
              "      <td>651.25</td>\n",
              "      <td>643.50</td>\n",
              "    </tr>\n",
              "  </tbody>\n",
              "</table>\n",
              "<p>2843 rows × 2 columns</p>\n",
              "</div>\n",
              "      <button class=\"colab-df-convert\" onclick=\"convertToInteractive('df-7d145a3d-317d-4efd-87e7-c2f0307f2ed9')\"\n",
              "              title=\"Convert this dataframe to an interactive table.\"\n",
              "              style=\"display:none;\">\n",
              "        \n",
              "  <svg xmlns=\"http://www.w3.org/2000/svg\" height=\"24px\"viewBox=\"0 0 24 24\"\n",
              "       width=\"24px\">\n",
              "    <path d=\"M0 0h24v24H0V0z\" fill=\"none\"/>\n",
              "    <path d=\"M18.56 5.44l.94 2.06.94-2.06 2.06-.94-2.06-.94-.94-2.06-.94 2.06-2.06.94zm-11 1L8.5 8.5l.94-2.06 2.06-.94-2.06-.94L8.5 2.5l-.94 2.06-2.06.94zm10 10l.94 2.06.94-2.06 2.06-.94-2.06-.94-.94-2.06-.94 2.06-2.06.94z\"/><path d=\"M17.41 7.96l-1.37-1.37c-.4-.4-.92-.59-1.43-.59-.52 0-1.04.2-1.43.59L10.3 9.45l-7.72 7.72c-.78.78-.78 2.05 0 2.83L4 21.41c.39.39.9.59 1.41.59.51 0 1.02-.2 1.41-.59l7.78-7.78 2.81-2.81c.8-.78.8-2.07 0-2.86zM5.41 20L4 18.59l7.72-7.72 1.47 1.35L5.41 20z\"/>\n",
              "  </svg>\n",
              "      </button>\n",
              "      \n",
              "  <style>\n",
              "    .colab-df-container {\n",
              "      display:flex;\n",
              "      flex-wrap:wrap;\n",
              "      gap: 12px;\n",
              "    }\n",
              "\n",
              "    .colab-df-convert {\n",
              "      background-color: #E8F0FE;\n",
              "      border: none;\n",
              "      border-radius: 50%;\n",
              "      cursor: pointer;\n",
              "      display: none;\n",
              "      fill: #1967D2;\n",
              "      height: 32px;\n",
              "      padding: 0 0 0 0;\n",
              "      width: 32px;\n",
              "    }\n",
              "\n",
              "    .colab-df-convert:hover {\n",
              "      background-color: #E2EBFA;\n",
              "      box-shadow: 0px 1px 2px rgba(60, 64, 67, 0.3), 0px 1px 3px 1px rgba(60, 64, 67, 0.15);\n",
              "      fill: #174EA6;\n",
              "    }\n",
              "\n",
              "    [theme=dark] .colab-df-convert {\n",
              "      background-color: #3B4455;\n",
              "      fill: #D2E3FC;\n",
              "    }\n",
              "\n",
              "    [theme=dark] .colab-df-convert:hover {\n",
              "      background-color: #434B5C;\n",
              "      box-shadow: 0px 1px 3px 1px rgba(0, 0, 0, 0.15);\n",
              "      filter: drop-shadow(0px 1px 2px rgba(0, 0, 0, 0.3));\n",
              "      fill: #FFFFFF;\n",
              "    }\n",
              "  </style>\n",
              "\n",
              "      <script>\n",
              "        const buttonEl =\n",
              "          document.querySelector('#df-7d145a3d-317d-4efd-87e7-c2f0307f2ed9 button.colab-df-convert');\n",
              "        buttonEl.style.display =\n",
              "          google.colab.kernel.accessAllowed ? 'block' : 'none';\n",
              "\n",
              "        async function convertToInteractive(key) {\n",
              "          const element = document.querySelector('#df-7d145a3d-317d-4efd-87e7-c2f0307f2ed9');\n",
              "          const dataTable =\n",
              "            await google.colab.kernel.invokeFunction('convertToInteractive',\n",
              "                                                     [key], {});\n",
              "          if (!dataTable) return;\n",
              "\n",
              "          const docLinkHtml = 'Like what you see? Visit the ' +\n",
              "            '<a target=\"_blank\" href=https://colab.research.google.com/notebooks/data_table.ipynb>data table notebook</a>'\n",
              "            + ' to learn more about interactive tables.';\n",
              "          element.innerHTML = '';\n",
              "          dataTable['output_type'] = 'display_data';\n",
              "          await google.colab.output.renderOutput(dataTable, element);\n",
              "          const docLink = document.createElement('div');\n",
              "          docLink.innerHTML = docLinkHtml;\n",
              "          element.appendChild(docLink);\n",
              "        }\n",
              "      </script>\n",
              "    </div>\n",
              "  </div>\n",
              "  "
            ]
          },
          "metadata": {},
          "execution_count": 4
        }
      ]
    },
    {
      "cell_type": "code",
      "source": [
        "pairs_df.isna().sum()"
      ],
      "metadata": {
        "colab": {
          "base_uri": "https://localhost:8080/"
        },
        "id": "JNO8Nx8AnDbi",
        "outputId": "2dffab39-8bc5-42f9-ee40-3c618ccdc527"
      },
      "execution_count": 5,
      "outputs": [
        {
          "output_type": "execute_result",
          "data": {
            "text/plain": [
              "CME Corn    0\n",
              "CME SRW     0\n",
              "dtype: int64"
            ]
          },
          "metadata": {},
          "execution_count": 5
        }
      ]
    },
    {
      "cell_type": "markdown",
      "source": [
        "### Calculate spread"
      ],
      "metadata": {
        "id": "hFvHDKhH3Ofb"
      }
    },
    {
      "cell_type": "code",
      "source": [
        "def calculate_spread(pairs_df, lookback):\n",
        "\n",
        "  pairs_df['spread'] = pairs_df.iloc[:,0] / pairs_df.iloc[:,1]\n",
        "  adf_ratio_spread = adfuller(pairs_df['spread'])\n",
        "  return pairs_df, adf_ratio_spread\n",
        "\n",
        "  # fit a rolling linear regression between the commodities pair\n",
        "  model = RollingOLS(endog=pairs_df.iloc[:,0],\n",
        "                     exog=sm.add_constant(pairs_df.iloc[:,1]),\n",
        "                     window=lookback)\n",
        "  rolling_res = model.fit()\n",
        "  params = rolling_res.params.copy()\n",
        "\n",
        "  # calculate the hedge ratio\n",
        "  pairs_df['hedge_ratio'] = params.iloc[:,1]\n",
        "  pairs_df.dropna(inplace=True)\n",
        "\n",
        "  # method 1: calculate the hedge ratio spread and ADF test statistic\n",
        "  pairs_df['hedge_ratio_spread'] = pairs_df.iloc[:,0] - pairs_df['hedge_ratio'] * pairs_df.iloc[:,1]\n",
        "  adf_hedge_ratio_spread = adfuller(pairs_df['hedge_ratio_spread'])\n",
        "\n",
        "  # method 2: calculate the ratio spread and ADF test statistic\n",
        "  pairs_df['ratio_spread'] = pairs_df.iloc[:,0] / pairs_df.iloc[:,1]\n",
        "  adf_ratio_spread = adfuller(pairs_df['ratio_spread'])\n",
        "\n",
        "  # choose spread with more negative ADF test statistic and append to dataframe\n",
        "  if adf_hedge_ratio_spread[0] < adf_ratio_spread[0]:\n",
        "    pairs_df['spread'] = pairs_df['hedge_ratio_spread']\n",
        "    pairs_df.drop('hedge_ratio_spread', axis=1, inplace=True)\n",
        "    return pairs_df, adf_hedge_ratio_spread\n",
        "  else:\n",
        "    pairs_df['spread'] = pairs_df['ratio_spread']\n",
        "    pairs_df.drop(columns=['ratio_spread', 'hedge_ratio'], axis=1, inplace=True)\n",
        "    return pairs_df, adf_ratio_spread"
      ],
      "metadata": {
        "id": "ORxJUutOe73C"
      },
      "execution_count": 6,
      "outputs": []
    },
    {
      "cell_type": "markdown",
      "source": [
        "### Test for stationarity\n",
        "\n",
        "In order to implement a mean reverting strategy we first have to ensure our data is stationary, which simply means a constant mean and variance. A simple test is a quick visual inspection, however a more robust statistical test is the Augmented Dicky-Fuller (ADF) test. A typical $a$ is 0.05 and we reject the null hypothesis when our p-value is below this threshold. In other words, if our p-value is less than $a$ we may conclude that our data is indeed stationary."
      ],
      "metadata": {
        "id": "fcBgQBH05k5N"
      }
    },
    {
      "cell_type": "code",
      "source": [
        "def test_stationarity(pairs_df, adf_result, alpha):\n",
        "    \n",
        "    # perform ADF test to check for stationarity\n",
        "    if adf_result[1] < alpha:\n",
        "      return (pairs_df, adf_result, True)\n",
        "    else:\n",
        "      return (pairs_df, adf_result, False)"
      ],
      "metadata": {
        "id": "7LLBdsl73JbY"
      },
      "execution_count": 7,
      "outputs": []
    },
    {
      "cell_type": "code",
      "source": [
        "# run functions\n",
        "pairs_df = create_pairs_df(product1_name, product1_ticker, product2_name, product2_ticker)\n",
        "pairs_df, adf_result = calculate_spread(pairs_df, lookback)\n",
        "pairs_df, adf_result, _ = test_stationarity(pairs_df, adf_result, alpha)"
      ],
      "metadata": {
        "colab": {
          "base_uri": "https://localhost:8080/"
        },
        "id": "Kafq6hzrZ0cO",
        "outputId": "6710bf13-429c-4155-c54a-8b3f50e8b0f6"
      },
      "execution_count": 8,
      "outputs": [
        {
          "output_type": "stream",
          "name": "stdout",
          "text": [
            "[*********************100%***********************]  2 of 2 completed\n"
          ]
        }
      ]
    },
    {
      "cell_type": "code",
      "source": [
        "# print ADF test statistics\n",
        "print('ADF statistic:\\n%f' % adf_result[0], '\\n')\n",
        "print('p-value: \\n%f' % adf_result[1], '\\n')\n",
        "print('Critical values:')\n",
        "for key, value in adf_result[4].items():\n",
        "  print('%s @ %.3f' % (key, value))"
      ],
      "metadata": {
        "colab": {
          "base_uri": "https://localhost:8080/"
        },
        "id": "-nRDWmJhPng7",
        "outputId": "6b80a37b-afda-43df-8f06-0eacda134896"
      },
      "execution_count": 9,
      "outputs": [
        {
          "output_type": "stream",
          "name": "stdout",
          "text": [
            "ADF statistic:\n",
            "-3.486611 \n",
            "\n",
            "p-value: \n",
            "0.008338 \n",
            "\n",
            "Critical values:\n",
            "1% @ -3.433\n",
            "5% @ -2.863\n",
            "10% @ -2.567\n"
          ]
        }
      ]
    },
    {
      "cell_type": "markdown",
      "source": [
        "### Calculate Bollinger Bands"
      ],
      "metadata": {
        "id": "CWwoS-u9fNg6"
      }
    },
    {
      "cell_type": "code",
      "source": [
        "def calculate_bbands(pairs_df, lookback, entry_threshold, exit_threshold, stop_loss):\n",
        "\n",
        "  # calculate the rolling mean and rolling std\n",
        "  pairs_df['mean'] = pairs_df['spread'].rolling(window=lookback).mean()\n",
        "  pairs_df['std'] = pairs_df['spread'].rolling(window=lookback).std()\n",
        "\n",
        "  # calculate the rolling entry and exit bands, and rolling stop loss bands\n",
        "  pairs_df['upper_entry'] = pairs_df['mean'] + entry_threshold * pairs_df['std']\n",
        "  pairs_df['lower_entry'] = pairs_df['mean'] - entry_threshold * pairs_df['std']\n",
        "  pairs_df['upper_exit'] = pairs_df['mean'] + exit_threshold * pairs_df['std']\n",
        "  pairs_df['lower_exit'] = pairs_df['mean'] - exit_threshold * pairs_df['std']\n",
        "  pairs_df['upper_stop_loss'] = pairs_df['mean'] + stop_loss * pairs_df['std']\n",
        "  pairs_df['lower_stop_loss'] = pairs_df['mean'] - stop_loss * pairs_df['std']\n",
        "\n",
        "  return pairs_df"
      ],
      "metadata": {
        "id": "Dqk4dSQoye2y"
      },
      "execution_count": 10,
      "outputs": []
    },
    {
      "cell_type": "markdown",
      "source": [
        "### Define trading rules\n",
        "\n",
        "Our base strategy is essentially a Bollinger Bands strategy, which means only a few adjustable hyperparameters, namely the lookback window and standard deviation. Another potential adjustment is whether to use a SMA or EWMA, which we will leave as a future exercise."
      ],
      "metadata": {
        "id": "a7tKKJnI-hvM"
      }
    },
    {
      "cell_type": "code",
      "source": [
        "def get_trading_signals(pairs_df, product1_name, product2_name):\n",
        "\n",
        "  # create signal column {-1, 0, 1}\n",
        "  pairs_df['signal'] = 0\n",
        "\n",
        "  # iterating through the time series to determine whether to buy/hold/sell\n",
        "  # cannot be vectorised as today's trading signal depends on yday's signal\n",
        "  # as such time complexity will be linear O(N)\n",
        "  for i in range(1, len(pairs_df)):\n",
        "\n",
        "    # from hold to sell or buy\n",
        "    if pairs_df.iloc[i-1, -1] == 0:\n",
        "      if (pairs_df['spread'][i] < pairs_df['upper_entry'][i]) & (pairs_df['spread'][i-1] >= pairs_df['upper_entry'][i-1]):\n",
        "        pairs_df.iloc[i, -1] = -1\n",
        "      elif (pairs_df['spread'][i] > pairs_df['lower_entry'][i]) & (pairs_df['spread'][i-1] <= pairs_df['lower_entry'][i-1]):\n",
        "        pairs_df.iloc[i, -1] = 1\n",
        "\n",
        "    # from sell to hold\n",
        "    elif pairs_df.iloc[i-1, -1] == -1:\n",
        "      if (pairs_df['spread'][i] < pairs_df['upper_exit'][i]) & (pairs_df['spread'][i-1] >= pairs_df['upper_exit'][i-1]):\n",
        "        pairs_df.iloc[i, -1] = 0\n",
        "      else:\n",
        "        pairs_df.iloc[i, -1] = -1\n",
        "\n",
        "    # from sell to hold\n",
        "    elif pairs_df.iloc[i-1, -1] == 1:\n",
        "      if (pairs_df['spread'][i] > pairs_df['lower_exit'][i]) & (pairs_df['spread'][i-1] <= pairs_df['lower_exit'][i-1]):\n",
        "        pairs_df.iloc[i, -1] = 0\n",
        "      else:\n",
        "        pairs_df.iloc[i, -1] = 1\n",
        "\n",
        "  return pairs_df"
      ],
      "metadata": {
        "id": "k0c8qMIKVu38"
      },
      "execution_count": 11,
      "outputs": []
    },
    {
      "cell_type": "code",
      "source": [
        "# run functions\n",
        "pairs_df = calculate_bbands(pairs_df, lookback, entry_threshold, exit_threshold, stop_loss)\n",
        "pairs_df = get_trading_signals(pairs_df, product1_name, product2_name)"
      ],
      "metadata": {
        "id": "3MYxVDiDl3Gg"
      },
      "execution_count": 12,
      "outputs": []
    },
    {
      "cell_type": "markdown",
      "source": [
        "### Plot Bollinger Bands and signal"
      ],
      "metadata": {
        "id": "RP7TRwiXhOYo"
      }
    },
    {
      "cell_type": "code",
      "source": [
        "# plot bollinger bands & signal\n",
        "fig, ax1 = plt.subplots(figsize=(8, 4))\n",
        "ax2 = ax1.twinx()\n",
        "\n",
        "ax1.plot(pairs_df.index, pairs_df['spread'])\n",
        "ax1.plot(pairs_df.index, pairs_df['upper_entry'], color='r', linewidth=0.5, label='upper_entry')\n",
        "ax1.plot(pairs_df.index, pairs_df['lower_entry'], color='r', linewidth=0.5, label='lower_entry')\n",
        "ax1.plot(pairs_df.index, pairs_df['upper_exit'], color='r', linewidth=0.5, linestyle='--', label='upper_exit')\n",
        "ax1.plot(pairs_df.index, pairs_df['lower_exit'], color='r', linewidth=0.5, linestyle='--', label='lower_exit')\n",
        "ax1.set_ylabel('Ratio')\n",
        "ax1.tick_params(axis='x', rotation=45)\n",
        "\n",
        "ax2.plot(pairs_df.index, pairs_df['signal'], color='k')\n",
        "ax2.set_ylabel('Signal')\n",
        "ax2.set_yticks([-1,0,1])\n",
        "\n",
        "plt.title(f'{product1_name} vs. {product2_name} ratio: BB @ +/- {entry_threshold} std devs')\n",
        "# ax1.legend()\n",
        "plt.show();"
      ],
      "metadata": {
        "colab": {
          "base_uri": "https://localhost:8080/",
          "height": 411
        },
        "id": "WWlnH-QcXJVL",
        "outputId": "42ce0b4a-9752-4830-dc52-3623534d8023"
      },
      "execution_count": 13,
      "outputs": [
        {
          "output_type": "display_data",
          "data": {
            "text/plain": [
              "<Figure size 800x400 with 2 Axes>"
            ],
            "image/png": "[encoded data removed]"
          },
          "metadata": {}
        }
      ]
    },
    {
      "cell_type": "markdown",
      "source": [
        "### Get equity curve"
      ],
      "metadata": {
        "id": "WHzyDVJ-hHbX"
      }
    },
    {
      "cell_type": "code",
      "source": [
        "def get_equity_curve(pairs_df, product1_name, product2_name):\n",
        "\n",
        "  pairs_df[f'{product1_name}_returns'] = pairs_df[product1_name].pct_change()\n",
        "  pairs_df[f'{product2_name}_returns'] = pairs_df[product2_name].pct_change()\n",
        "  pairs_df['strategy_returns'] = pairs_df['signal'].shift() * (pairs_df[f'{product1_name}_returns'] - pairs_df[f'{product2_name}_returns'])\n",
        "  pairs_df['strategy_cumulative_returns'] = (1 + pairs_df['strategy_returns']).cumprod()\n",
        "\n",
        "  return pairs_df"
      ],
      "metadata": {
        "id": "V20ERSjb7c_M"
      },
      "execution_count": 14,
      "outputs": []
    },
    {
      "cell_type": "markdown",
      "source": [
        "### Plot equity curve"
      ],
      "metadata": {
        "id": "JH8haEmmqhaf"
      }
    },
    {
      "cell_type": "code",
      "source": [
        "# run functions\n",
        "pairs_df = get_equity_curve(pairs_df, product1_name, product2_name)"
      ],
      "metadata": {
        "id": "ZjniHgC_Zw4o"
      },
      "execution_count": 15,
      "outputs": []
    },
    {
      "cell_type": "code",
      "source": [
        "# plot equity curve\n",
        "pairs_df['strategy_cumulative_returns'].plot();"
      ],
      "metadata": {
        "colab": {
          "base_uri": "https://localhost:8080/",
          "height": 423
        },
        "id": "4S8rbuNNpaUp",
        "outputId": "cb120f3d-015c-4de9-c62b-b55093d8ea07"
      },
      "execution_count": 16,
      "outputs": [
        {
          "output_type": "display_data",
          "data": {
            "text/plain": [
              "<Figure size 640x480 with 1 Axes>"
            ],
            "image/png": "[encoded data removed]"
          },
          "metadata": {}
        }
      ]
    },
    {
      "cell_type": "markdown",
      "source": [
        "### Commodities pairs universe"
      ],
      "metadata": {
        "id": "szbPSB8UyHbR"
      }
    },
    {
      "cell_type": "code",
      "source": [
        "pairs_universe = [\n",
        "            \n",
        "  # AGRICULTURE\n",
        "\n",
        "            # corn srw\n",
        "            {'product1_name':'corn', \n",
        "             'product1_ticker':'ZC=F',\n",
        "             'product2_name':'srw',\n",
        "             'product2_ticker':'ZW=F'\n",
        "             },\n",
        "\n",
        "            # hrw srw\n",
        "            {'product1_name':'hrw', \n",
        "             'product1_ticker':'KE=F',\n",
        "             'product2_name':'srw',\n",
        "             'product2_ticker':'ZW=F'\n",
        "             },\n",
        "\n",
        "            # soybeans soymeal\n",
        "            {'product1_name':'soybean', \n",
        "             'product1_ticker':'ZS=F',\n",
        "             'product2_name':'soymeal',\n",
        "             'product2_ticker':'ZM=F'\n",
        "             },\n",
        "\n",
        "            # soybeans soyoil\n",
        "            {'product1_name':'soybean', \n",
        "             'product1_ticker':'ZS=F',\n",
        "             'product2_name':'soyoil',\n",
        "             'product2_ticker':'ZL=F'\n",
        "             },\n",
        "\n",
        "            # soymeal soyoil\n",
        "            {'product1_name':'soymeal', \n",
        "             'product1_ticker':'ZM=F',\n",
        "             'product2_name':'soyoil',\n",
        "             'product2_ticker':'ZL=F'\n",
        "             },\n",
        "\n",
        "  # METALS\n",
        "\n",
        "            # gold silver\n",
        "            {'product1_name':'gold',\n",
        "             'product1_ticker':'GC=F',\n",
        "             'product2_name':'silver',\n",
        "             'product2_ticker':'SI=F'\n",
        "             },\n",
        "\n",
        "            # gold platinum\n",
        "            {'product1_name':'gold', \n",
        "             'product1_ticker':'GC=F',\n",
        "             'product2_name':'platinum',\n",
        "             'product2_ticker':'PL=F'\n",
        "             },\n",
        "\n",
        "            # silver platinum\n",
        "            {'product1_name':'silver', \n",
        "             'product1_ticker':'SI=F',\n",
        "             'product2_name':'platinum',\n",
        "             'product2_ticker':'PL=F'\n",
        "             },\n",
        "\n",
        "  # ENERGY\n",
        "\n",
        "            # brent wti\n",
        "            {'product1_name':'brent', \n",
        "             'product1_ticker':'BZ=F',\n",
        "             'product2_name':'wti',\n",
        "             'product2_ticker':'CL=F'\n",
        "             },\n",
        "]"
      ],
      "metadata": {
        "id": "Q53Hzw_4ICC2"
      },
      "execution_count": 17,
      "outputs": []
    },
    {
      "cell_type": "markdown",
      "source": [
        "### Get portfolio returns"
      ],
      "metadata": {
        "id": "NqwhOn7-hUyp"
      }
    },
    {
      "cell_type": "code",
      "source": [
        "def get_portfolio_returns(pairs_universe, alpha):\n",
        "\n",
        "  # create empty list of dataframes\n",
        "  dfs = []\n",
        "  columns = []\n",
        "\n",
        "  # loop through all pairs in universe\n",
        "  for pair in pairs_universe:\n",
        "\n",
        "    # convenience variables\n",
        "    product1_name = pair['product1_name']\n",
        "    product1_ticker = pair['product1_ticker']\n",
        "    product2_name = pair['product2_name']\n",
        "    product2_ticker = pair['product2_ticker']\n",
        "\n",
        "    # run functions\n",
        "    pairs_df = create_pairs_df(product1_name, product1_ticker, product2_name, product2_ticker)\n",
        "    pairs_df = calculate_bbands(pairs_df, lookback, entry_threshold, exit_threshold, stop_loss)\n",
        "    pairs_df, result, check = test_stationarity(pairs_df, alpha)\n",
        "\n",
        "    # proceed only for stationary time series\n",
        "    if check:\n",
        "\n",
        "      # run functions\n",
        "      pairs_df = get_trading_signals(pairs_df, product1_name, product2_name)\n",
        "      pairs_df = get_equity_curve(pairs_df, product1_name, product2_name)\n",
        "      dfs.append(pairs_df['strategy_cumulative_returns'])\n",
        "      columns.append(f'{product1_name}_{product2_name}')\n",
        "\n",
        "  # create dataframe from list and calculate mean returns\n",
        "  pairs_universe_df = pd.DataFrame(dfs).T\n",
        "  pairs_universe_df.columns = columns\n",
        "  pairs_universe_df['portfolio_returns'] = pairs_universe_df.mean(axis=1)\n",
        "\n",
        "  return pairs_universe_df"
      ],
      "metadata": {
        "id": "BF5aAiSCGJAT"
      },
      "execution_count": 18,
      "outputs": []
    },
    {
      "cell_type": "code",
      "source": [
        "# set up benchmark\n",
        "bm = yf.download([benchmark_ticker], start=start, end=end)\n",
        "bm.fillna(method='ffill', inplace=True)\n",
        "bm[f'{benchmark_name}_daily_returns'] = bm['Adj Close'].pct_change()\n",
        "bm[f'{benchmark_name}_returns'] = (1 + bm[f'{benchmark_name}_daily_returns']).cumprod()"
      ],
      "metadata": {
        "colab": {
          "base_uri": "https://localhost:8080/"
        },
        "id": "uAMiyVHKkCE_",
        "outputId": "c4ca1ca3-0582-4cd0-a1a0-24ad6035d74a"
      },
      "execution_count": 19,
      "outputs": [
        {
          "output_type": "stream",
          "name": "stdout",
          "text": [
            "\r[*********************100%***********************]  1 of 1 completed\n"
          ]
        }
      ]
    },
    {
      "cell_type": "code",
      "source": [
        "# get pairs universe returns\n",
        "pairs_universe_df = get_portfolio_returns(pairs_universe, alpha)\n",
        "\n",
        "# plot portfolio and benchmark returns\n",
        "plt.subplots(figsize=(8, 4))\n",
        "\n",
        "for col in pairs_universe_df.columns:\n",
        "  plt.plot(pairs_universe_df.index, pairs_universe_df[col], color='gray', linewidth=0.5, linestyle='--')\n",
        "\n",
        "plt.plot(pairs_universe_df.index, pairs_universe_df['portfolio_returns'], color='b', linewidth=1)\n",
        "plt.plot(bm.index, bm[f'{benchmark_name}_returns'], color='r', linewidth=1)\n",
        "plt.show();"
      ],
      "metadata": {
        "colab": {
          "base_uri": "https://localhost:8080/",
          "height": 532
        },
        "id": "Cu91SLBjggDR",
        "outputId": "40c12873-4d68-41f7-d571-fc00752335b6"
      },
      "execution_count": 20,
      "outputs": [
        {
          "output_type": "stream",
          "name": "stdout",
          "text": [
            "[*********************100%***********************]  2 of 2 completed\n"
          ]
        },
        {
          "output_type": "error",
          "ename": "KeyError",
          "evalue": "ignored",
          "traceback": [
            "\u001b[0;31m---------------------------------------------------------------------------\u001b[0m",
            "\u001b[0;31mKeyError\u001b[0m                                  Traceback (most recent call last)",
            "\u001b[0;32m/usr/local/lib/python3.9/dist-packages/pandas/core/indexes/base.py\u001b[0m in \u001b[0;36mget_loc\u001b[0;34m(self, key, method, tolerance)\u001b[0m\n\u001b[1;32m   3801\u001b[0m             \u001b[0;32mtry\u001b[0m\u001b[0;34m:\u001b[0m\u001b[0;34m\u001b[0m\u001b[0;34m\u001b[0m\u001b[0m\n\u001b[0;32m-> 3802\u001b[0;31m                 \u001b[0;32mreturn\u001b[0m \u001b[0mself\u001b[0m\u001b[0;34m.\u001b[0m\u001b[0m_engine\u001b[0m\u001b[0;34m.\u001b[0m\u001b[0mget_loc\u001b[0m\u001b[0;34m(\u001b[0m\u001b[0mcasted_key\u001b[0m\u001b[0;34m)\u001b[0m\u001b[0;34m\u001b[0m\u001b[0;34m\u001b[0m\u001b[0m\n\u001b[0m\u001b[1;32m   3803\u001b[0m             \u001b[0;32mexcept\u001b[0m \u001b[0mKeyError\u001b[0m \u001b[0;32mas\u001b[0m \u001b[0merr\u001b[0m\u001b[0;34m:\u001b[0m\u001b[0;34m\u001b[0m\u001b[0;34m\u001b[0m\u001b[0m\n",
            "\u001b[0;32m/usr/local/lib/python3.9/dist-packages/pandas/_libs/index.pyx\u001b[0m in \u001b[0;36mpandas._libs.index.IndexEngine.get_loc\u001b[0;34m()\u001b[0m\n",
            "\u001b[0;32m/usr/local/lib/python3.9/dist-packages/pandas/_libs/index.pyx\u001b[0m in \u001b[0;36mpandas._libs.index.IndexEngine.get_loc\u001b[0;34m()\u001b[0m\n",
            "\u001b[0;32mpandas/_libs/hashtable_class_helper.pxi\u001b[0m in \u001b[0;36mpandas._libs.hashtable.PyObjectHashTable.get_item\u001b[0;34m()\u001b[0m\n",
            "\u001b[0;32mpandas/_libs/hashtable_class_helper.pxi\u001b[0m in \u001b[0;36mpandas._libs.hashtable.PyObjectHashTable.get_item\u001b[0;34m()\u001b[0m\n",
            "\u001b[0;31mKeyError\u001b[0m: 'spread'",
            "\nThe above exception was the direct cause of the following exception:\n",
            "\u001b[0;31mKeyError\u001b[0m                                  Traceback (most recent call last)",
            "\u001b[0;32m<ipython-input-20-6b55615a24d6>\u001b[0m in \u001b[0;36m<cell line: 2>\u001b[0;34m()\u001b[0m\n\u001b[1;32m      1\u001b[0m \u001b[0;31m# get pairs universe returns\u001b[0m\u001b[0;34m\u001b[0m\u001b[0;34m\u001b[0m\u001b[0m\n\u001b[0;32m----> 2\u001b[0;31m \u001b[0mpairs_universe_df\u001b[0m \u001b[0;34m=\u001b[0m \u001b[0mget_portfolio_returns\u001b[0m\u001b[0;34m(\u001b[0m\u001b[0mpairs_universe\u001b[0m\u001b[0;34m,\u001b[0m \u001b[0malpha\u001b[0m\u001b[0;34m)\u001b[0m\u001b[0;34m\u001b[0m\u001b[0;34m\u001b[0m\u001b[0m\n\u001b[0m\u001b[1;32m      3\u001b[0m \u001b[0;34m\u001b[0m\u001b[0m\n\u001b[1;32m      4\u001b[0m \u001b[0;31m# plot portfolio and benchmark returns\u001b[0m\u001b[0;34m\u001b[0m\u001b[0;34m\u001b[0m\u001b[0m\n\u001b[1;32m      5\u001b[0m \u001b[0mplt\u001b[0m\u001b[0;34m.\u001b[0m\u001b[0msubplots\u001b[0m\u001b[0;34m(\u001b[0m\u001b[0mfigsize\u001b[0m\u001b[0;34m=\u001b[0m\u001b[0;34m(\u001b[0m\u001b[0;36m8\u001b[0m\u001b[0;34m,\u001b[0m \u001b[0;36m4\u001b[0m\u001b[0;34m)\u001b[0m\u001b[0;34m)\u001b[0m\u001b[0;34m\u001b[0m\u001b[0;34m\u001b[0m\u001b[0m\n",
            "\u001b[0;32m<ipython-input-18-e586978886c8>\u001b[0m in \u001b[0;36mget_portfolio_returns\u001b[0;34m(pairs_universe, alpha)\u001b[0m\n\u001b[1;32m     16\u001b[0m     \u001b[0;31m# run functions\u001b[0m\u001b[0;34m\u001b[0m\u001b[0;34m\u001b[0m\u001b[0m\n\u001b[1;32m     17\u001b[0m     \u001b[0mpairs_df\u001b[0m \u001b[0;34m=\u001b[0m \u001b[0mcreate_pairs_df\u001b[0m\u001b[0;34m(\u001b[0m\u001b[0mproduct1_name\u001b[0m\u001b[0;34m,\u001b[0m \u001b[0mproduct1_ticker\u001b[0m\u001b[0;34m,\u001b[0m \u001b[0mproduct2_name\u001b[0m\u001b[0;34m,\u001b[0m \u001b[0mproduct2_ticker\u001b[0m\u001b[0;34m)\u001b[0m\u001b[0;34m\u001b[0m\u001b[0;34m\u001b[0m\u001b[0m\n\u001b[0;32m---> 18\u001b[0;31m     \u001b[0mpairs_df\u001b[0m \u001b[0;34m=\u001b[0m \u001b[0mcalculate_bbands\u001b[0m\u001b[0;34m(\u001b[0m\u001b[0mpairs_df\u001b[0m\u001b[0;34m,\u001b[0m \u001b[0mlookback\u001b[0m\u001b[0;34m,\u001b[0m \u001b[0mentry_threshold\u001b[0m\u001b[0;34m,\u001b[0m \u001b[0mexit_threshold\u001b[0m\u001b[0;34m,\u001b[0m \u001b[0mstop_loss\u001b[0m\u001b[0;34m)\u001b[0m\u001b[0;34m\u001b[0m\u001b[0;34m\u001b[0m\u001b[0m\n\u001b[0m\u001b[1;32m     19\u001b[0m     \u001b[0mpairs_df\u001b[0m\u001b[0;34m,\u001b[0m \u001b[0mresult\u001b[0m\u001b[0;34m,\u001b[0m \u001b[0mcheck\u001b[0m \u001b[0;34m=\u001b[0m \u001b[0mtest_stationarity\u001b[0m\u001b[0;34m(\u001b[0m\u001b[0mpairs_df\u001b[0m\u001b[0;34m,\u001b[0m \u001b[0malpha\u001b[0m\u001b[0;34m)\u001b[0m\u001b[0;34m\u001b[0m\u001b[0;34m\u001b[0m\u001b[0m\n\u001b[1;32m     20\u001b[0m \u001b[0;34m\u001b[0m\u001b[0m\n",
            "\u001b[0;32m<ipython-input-10-a3e9e8ca764a>\u001b[0m in \u001b[0;36mcalculate_bbands\u001b[0;34m(pairs_df, lookback, entry_threshold, exit_threshold, stop_loss)\u001b[0m\n\u001b[1;32m      2\u001b[0m \u001b[0;34m\u001b[0m\u001b[0m\n\u001b[1;32m      3\u001b[0m   \u001b[0;31m# calculate the rolling mean and rolling std\u001b[0m\u001b[0;34m\u001b[0m\u001b[0;34m\u001b[0m\u001b[0m\n\u001b[0;32m----> 4\u001b[0;31m   \u001b[0mpairs_df\u001b[0m\u001b[0;34m[\u001b[0m\u001b[0;34m'mean'\u001b[0m\u001b[0;34m]\u001b[0m \u001b[0;34m=\u001b[0m \u001b[0mpairs_df\u001b[0m\u001b[0;34m[\u001b[0m\u001b[0;34m'spread'\u001b[0m\u001b[0;34m]\u001b[0m\u001b[0;34m.\u001b[0m\u001b[0mrolling\u001b[0m\u001b[0;34m(\u001b[0m\u001b[0mwindow\u001b[0m\u001b[0;34m=\u001b[0m\u001b[0mlookback\u001b[0m\u001b[0;34m)\u001b[0m\u001b[0;34m.\u001b[0m\u001b[0mmean\u001b[0m\u001b[0;34m(\u001b[0m\u001b[0;34m)\u001b[0m\u001b[0;34m\u001b[0m\u001b[0;34m\u001b[0m\u001b[0m\n\u001b[0m\u001b[1;32m      5\u001b[0m   \u001b[0mpairs_df\u001b[0m\u001b[0;34m[\u001b[0m\u001b[0;34m'std'\u001b[0m\u001b[0;34m]\u001b[0m \u001b[0;34m=\u001b[0m \u001b[0mpairs_df\u001b[0m\u001b[0;34m[\u001b[0m\u001b[0;34m'spread'\u001b[0m\u001b[0;34m]\u001b[0m\u001b[0;34m.\u001b[0m\u001b[0mrolling\u001b[0m\u001b[0;34m(\u001b[0m\u001b[0mwindow\u001b[0m\u001b[0;34m=\u001b[0m\u001b[0mlookback\u001b[0m\u001b[0;34m)\u001b[0m\u001b[0;34m.\u001b[0m\u001b[0mstd\u001b[0m\u001b[0;34m(\u001b[0m\u001b[0;34m)\u001b[0m\u001b[0;34m\u001b[0m\u001b[0;34m\u001b[0m\u001b[0m\n\u001b[1;32m      6\u001b[0m \u001b[0;34m\u001b[0m\u001b[0m\n",
            "\u001b[0;32m/usr/local/lib/python3.9/dist-packages/pandas/core/frame.py\u001b[0m in \u001b[0;36m__getitem__\u001b[0;34m(self, key)\u001b[0m\n\u001b[1;32m   3805\u001b[0m             \u001b[0;32mif\u001b[0m \u001b[0mself\u001b[0m\u001b[0;34m.\u001b[0m\u001b[0mcolumns\u001b[0m\u001b[0;34m.\u001b[0m\u001b[0mnlevels\u001b[0m \u001b[0;34m>\u001b[0m \u001b[0;36m1\u001b[0m\u001b[0;34m:\u001b[0m\u001b[0;34m\u001b[0m\u001b[0;34m\u001b[0m\u001b[0m\n\u001b[1;32m   3806\u001b[0m                 \u001b[0;32mreturn\u001b[0m \u001b[0mself\u001b[0m\u001b[0;34m.\u001b[0m\u001b[0m_getitem_multilevel\u001b[0m\u001b[0;34m(\u001b[0m\u001b[0mkey\u001b[0m\u001b[0;34m)\u001b[0m\u001b[0;34m\u001b[0m\u001b[0;34m\u001b[0m\u001b[0m\n\u001b[0;32m-> 3807\u001b[0;31m             \u001b[0mindexer\u001b[0m \u001b[0;34m=\u001b[0m \u001b[0mself\u001b[0m\u001b[0;34m.\u001b[0m\u001b[0mcolumns\u001b[0m\u001b[0;34m.\u001b[0m\u001b[0mget_loc\u001b[0m\u001b[0;34m(\u001b[0m\u001b[0mkey\u001b[0m\u001b[0;34m)\u001b[0m\u001b[0;34m\u001b[0m\u001b[0;34m\u001b[0m\u001b[0m\n\u001b[0m\u001b[1;32m   3808\u001b[0m             \u001b[0;32mif\u001b[0m \u001b[0mis_integer\u001b[0m\u001b[0;34m(\u001b[0m\u001b[0mindexer\u001b[0m\u001b[0;34m)\u001b[0m\u001b[0;34m:\u001b[0m\u001b[0;34m\u001b[0m\u001b[0;34m\u001b[0m\u001b[0m\n\u001b[1;32m   3809\u001b[0m                 \u001b[0mindexer\u001b[0m \u001b[0;34m=\u001b[0m \u001b[0;34m[\u001b[0m\u001b[0mindexer\u001b[0m\u001b[0;34m]\u001b[0m\u001b[0;34m\u001b[0m\u001b[0;34m\u001b[0m\u001b[0m\n",
            "\u001b[0;32m/usr/local/lib/python3.9/dist-packages/pandas/core/indexes/base.py\u001b[0m in \u001b[0;36mget_loc\u001b[0;34m(self, key, method, tolerance)\u001b[0m\n\u001b[1;32m   3802\u001b[0m                 \u001b[0;32mreturn\u001b[0m \u001b[0mself\u001b[0m\u001b[0;34m.\u001b[0m\u001b[0m_engine\u001b[0m\u001b[0;34m.\u001b[0m\u001b[0mget_loc\u001b[0m\u001b[0;34m(\u001b[0m\u001b[0mcasted_key\u001b[0m\u001b[0;34m)\u001b[0m\u001b[0;34m\u001b[0m\u001b[0;34m\u001b[0m\u001b[0m\n\u001b[1;32m   3803\u001b[0m             \u001b[0;32mexcept\u001b[0m \u001b[0mKeyError\u001b[0m \u001b[0;32mas\u001b[0m \u001b[0merr\u001b[0m\u001b[0;34m:\u001b[0m\u001b[0;34m\u001b[0m\u001b[0;34m\u001b[0m\u001b[0m\n\u001b[0;32m-> 3804\u001b[0;31m                 \u001b[0;32mraise\u001b[0m \u001b[0mKeyError\u001b[0m\u001b[0;34m(\u001b[0m\u001b[0mkey\u001b[0m\u001b[0;34m)\u001b[0m \u001b[0;32mfrom\u001b[0m \u001b[0merr\u001b[0m\u001b[0;34m\u001b[0m\u001b[0;34m\u001b[0m\u001b[0m\n\u001b[0m\u001b[1;32m   3805\u001b[0m             \u001b[0;32mexcept\u001b[0m \u001b[0mTypeError\u001b[0m\u001b[0;34m:\u001b[0m\u001b[0;34m\u001b[0m\u001b[0;34m\u001b[0m\u001b[0m\n\u001b[1;32m   3806\u001b[0m                 \u001b[0;31m# If we have a listlike key, _check_indexing_error will raise\u001b[0m\u001b[0;34m\u001b[0m\u001b[0;34m\u001b[0m\u001b[0m\n",
            "\u001b[0;31mKeyError\u001b[0m: 'spread'"
          ]
        }
      ]
    },
    {
      "cell_type": "markdown",
      "source": [
        "# END"
      ],
      "metadata": {
        "id": "rrjb_00CiTPR"
      }
    }
  ]
}